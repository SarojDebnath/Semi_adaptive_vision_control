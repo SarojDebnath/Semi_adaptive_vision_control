{
 "cells": [
  {
   "cell_type": "code",
   "execution_count": null,
   "id": "8604f993-62ac-46ee-a70c-2ea184e68fc4",
   "metadata": {},
   "outputs": [],
   "source": [
    "Difference between x1:  -38\n",
    "Difference between y1:  -5\n",
    "Robot X position:  0.509599923684435"
   ]
  },
  {
   "cell_type": "code",
   "execution_count": null,
   "id": "416f44ee-5b13-40aa-a9e7-191adf1fda87",
   "metadata": {},
   "outputs": [],
   "source": [
    "[0.5091420374050206, -0.20850311503158075, 0.2026857333977448, -2.2136349740203993, -0.008593549468887178, -2.2187839842805084]\n",
    "[0.509125771713725, -0.20850459129458157, 0.20300714262618436, -2.213557648877321, -0.008719016856183731, -2.218819302853316]"
   ]
  }
 ],
 "metadata": {
  "kernelspec": {
   "display_name": "Python 3 (ipykernel)",
   "language": "python",
   "name": "python3"
  },
  "language_info": {
   "codemirror_mode": {
    "name": "ipython",
    "version": 3
   },
   "file_extension": ".py",
   "mimetype": "text/x-python",
   "name": "python",
   "nbconvert_exporter": "python",
   "pygments_lexer": "ipython3",
   "version": "3.10.0"
  }
 },
 "nbformat": 4,
 "nbformat_minor": 5
}
